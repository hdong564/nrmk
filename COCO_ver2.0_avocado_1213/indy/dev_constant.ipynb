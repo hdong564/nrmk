{
 "cells": [
  {
   "cell_type": "code",
   "execution_count": 1,
   "metadata": {},
   "outputs": [],
   "source": [
    "POS_DATA = [\n",
    "    # code, name, linear_pos, pickup_time, place_time\n",
    "    (0,  'ready', 1.0, 3, 3), \n",
    "    (1,  'f0',    0.9, 3, 3), \n",
    "    (2,  'f1',    0.8, 3, 3), \n",
    "    (3,  'f2',    0.7, 3, 3), \n",
    "    (4,  'f3',    0.6, 3, 3), \n",
    "    (5,  'f4',    0.5, 3, 3), \n",
    "    (6,  'f5',    0.4, 3, 3),\n",
    "    (7,  'w0',    0.9, 3, 3),\n",
    "    (8,  'w1',    0.8, 3, 3),\n",
    "    (9,  'w2',    0.7, 3, 3),\n",
    "    (10, 'w3',    0.6, 3, 3),\n",
    "    (11, 'w4',    0.5, 3, 3),\n",
    "    (12, 'w5',    0.4, 3, 3),\n",
    "    (13, 'fin',   0.3, 3, 3), \n",
    "    (14, 'ret0',   0.2, 3, 3),\n",
    "    (15, 'ret1',   0.2, 3, 3),\n",
    "    (16, 'ret2',   0.2, 3, 3),\n",
    "]\n",
    "\n",
    "BASKET_DATA = [\n",
    "    # code, name, cooking_time\n",
    "    (0,  'no',                      0), \n",
    "    (1,  'empty',                   0), \n",
    "    (11, 'boneless_chicken',        6.5*60), \n",
    "    (12, 'bone_chicken',            9.5*60), \n",
    "    (13, 'potato',                  3.5*60), \n",
    "    (14, 'cheeseball',              4.5*60), \n",
    "    (21, 'cooked_boneless_chicken', 0),\n",
    "    (22, 'cooked_bone_chicken',     0),\n",
    "    (23, 'cooked_potato',           0),\n",
    "    (24, 'cooked_cheeseball',       0),\n",
    "]\n",
    "\n",
    "ROBOT_STATUS = {\"linear\": 0, \"holding\" : 0}\n",
    "BASKET_STATUS = dict([(n, 0) for _, n, *_ in POS_DATA])\n",
    "FRYING_TIME = dict([('f{}'.format(i), 99999) for i in range(6)])\n",
    "RECIPE = dict([(n, t) for c, n, t in BASKET_DATA if 10 < c < 20])\n",
    "\n",
    "pos_cn = {code: name for code, name, pos, _, _ in POS_DATA }\n",
    "pos_nc = {name: code for code, name, pos, _, _ in POS_DATA }\n",
    "pos_cp = {code: pos for code, name, pos, _, _ in POS_DATA }\n",
    "\n",
    "basket_cn = {code: name for code, name, _ in BASKET_DATA }\n",
    "basket_nc = {name: code for code, name, _ in BASKET_DATA }"
   ]
  },
  {
   "cell_type": "code",
   "execution_count": 6,
   "metadata": {
    "tags": []
   },
   "outputs": [
    {
     "name": "stdout",
     "output_type": "stream",
     "text": [
      "{'f0': 99999, 'f1': -25, 'f2': 4.5, 'f3': 99999, 'f4': 99999, 'f5': 99999}\n",
      "\n",
      "{'ready': 0, 'f0': 0, 'f1': 14, 'f2': 14, 'f3': 0, 'f4': 0, 'f5': 0, 'w0': 0, 'w1': 0, 'w2': 0, 'w3': 0, 'w4': 0, 'w5': 0, 'fin': 0, 'ret0': 0, 'ret1': 0, 'ret2': 0}\n",
      "\n",
      "{0: 'ready', 1: 'f0', 2: 'f1', 3: 'f2', 4: 'f3', 5: 'f4', 6: 'f5', 7: 'w0', 8: 'w1', 9: 'w2', 10: 'w3', 11: 'w4', 12: 'w5', 13: 'fin', 14: 'ret0', 15: 'ret1', 16: 'ret2'}\n"
     ]
    }
   ],
   "source": [
    "BASKET_STATUS['f1'] = basket_nc['cheeseball']\n",
    "BASKET_STATUS['f2'] = basket_nc['cheeseball']\n",
    "\n",
    "FRYING_TIME['f1'] = -25\n",
    "FRYING_TIME['f2'] = 4.5\n",
    "print(FRYING_TIME)\n",
    "print()\n",
    "print(BASKET_STATUS)\n",
    "print()\n",
    "print(pos_cn)"
   ]
  },
  {
   "cell_type": "code",
   "execution_count": null,
   "metadata": {
    "tags": []
   },
   "outputs": [],
   "source": [
    "from time import time\n",
    "from time import sleep\n",
    "import copy\n",
    "\n",
    "def rt_status_update():\n",
    "    prev_time = time()\n",
    "    while True:\n",
    "        sleep(0.05)\n",
    "\n",
    "        for i in range(6):\n",
    "            if BASKET_STATUS['f{}'.format(i)] > 10: \n",
    "                FRYING_TIME['f{}'.format(i)] -= time()-prev_time\n",
    "\n",
    "                if FRYING_TIME['f{}'.format(i)] < 0 and BASKET_STATUS['f{}'.format(i)] < 20:\n",
    "                    BASKET_STATUS['f{}'.format(i)] = BASKET_STATUS['f{}'.format(i)] + 10\n",
    "            else:\n",
    "                FRYING_TIME['f{}'.format(i)] = 9999\n",
    "\n",
    "            if FRYING_TIME['f{}'.format(i)] < -30:\n",
    "                print(\"'f{} overcooked {}\".format(i, FRYING_TIME['f{}'.format(i)]))\n",
    "\n",
    "        prev_time = time()\n",
    "        PRE_BASKET_STATUS = copy.deepcopy(BASKET_STATUS)\n",
    "\n",
    "rt_status_update()"
   ]
  },
  {
   "cell_type": "code",
   "execution_count": null,
   "metadata": {
    "tags": []
   },
   "outputs": [],
   "source": [
    "print(FRYING_TIME)\n",
    "print(RECIPE)\n",
    "print(BASKET_STATUS)"
   ]
  },
  {
   "cell_type": "code",
   "execution_count": null,
   "metadata": {
    "tags": []
   },
   "outputs": [],
   "source": [
    "class Command():\n",
    "    def __init__(self, pos_code, category, motion_time = 0):\n",
    "        self.cat = category\n",
    "        self.pos_code = pos_code\n",
    "        self.pos_name = pos_cn[pos_code]\n",
    "        self.motion_time = motion_time\n",
    "\n",
    "    def __repr__(self):\n",
    "        return \"< cmd {} >\".format(self.cat + self.pos_code)\n",
    "\n",
    "    def get_motion_time(self):\n",
    "        return self.motion_time\n",
    "\n",
    "    def get_cmd_addr(self):\n",
    "        return self.cat + self.pos\n",
    "    \n",
    "    def done(self):\n",
    "        pass\n",
    "\n",
    "class CMD_GO(Command):\n",
    "    def __init__(self, pos_code):\n",
    "        super().__init__(pos_code, 0, 0)\n",
    "\n",
    "    def get_motion_time(self, start_pos_code):\n",
    "        if pos_cp[start_pos_code] == pos_cp[self.pos_code]:\n",
    "            return 0\n",
    "        else:\n",
    "            return abs(pos_cp[self.pos_code] - pos_cp[start_pos_code]) + 1\n",
    "\n",
    "    def done(self):\n",
    "        ROBOT_STATUS[\"linear\"] = self.pos_code\n",
    "\n",
    "class CMD_PICKUP(Command):\n",
    "    def __init__(self, pos_code, motion_time):\n",
    "        super().__init__(pos_code, 100, motion_time)\n",
    "    def done(self):\n",
    "        ROBOT_STATUS[\"holding\"] = BASKET_STATUS[self.pos_name]\n",
    "        BASKET_STATUS[self.pos_name] = basket_nc['없음']\n",
    "        for i in range(6):\n",
    "            if self.pos_name == 'f{}'.format(i):\n",
    "                FRYING_TIME[self.pos_name] = 0\n",
    "\n",
    "class CMD_PLACE(Command):\n",
    "    def __init__(self, pos_code, motion_time):\n",
    "        super().__init__(pos_code, 200, motion_time)\n",
    "    def done(self):\n",
    "        BASKET_STATUS[self.pos_name] = ROBOT_STATUS[\"holding\"]\n",
    "        ROBOT_STATUS[\"holding\"] = basket_nc['없음']\n",
    "        \n",
    "        for i in range(6):\n",
    "            if self.pos_name == 'f{}'.format(i):\n",
    "                FRYING_TIME[self.pos_name] = RECIPE[basket_cn[BASKET_STATUS[self.pos_name]]]\n",
    "\n",
    "class CMD_SHAKE(Command):\n",
    "    def __init__(self, pos_code):\n",
    "        super().__init__(pos_code, 300, 50)\n",
    "\n",
    "cmd_go = dict([(code, CMD_GO(code)) for code, *_ in POS_DATA])\n",
    "cmd_pick_up = dict([(code, CMD_PICKUP(code, pick_time)) for code, _, _, pick_time, _ in POS_DATA])\n",
    "cmd_place = dict([(code, CMD_PLACE(code, place_time)) for code, _, _, _, place_time in POS_DATA])\n",
    "cmd_shake = dict([(code, CMD_SHAKE(code)) for code, *_ in POS_DATA])\n",
    "\n",
    "class PickNPlace():\n",
    "    def __init__(self, pick_pos_name, place_pos_name):\n",
    "        self.pick_pos_code = pos_nc[pick_pos_name]\n",
    "        self.place_pos_code = pos_nc[place_pos_name]\n",
    "        self.cmds = [cmd_go[self.pick_pos_code], cmd_pick_up[self.pick_pos_code], cmd_go[self.place_pos_code], cmd_place[self.place_pos_code]]\n",
    "    \n",
    "    def __repr__(self):\n",
    "        return \"< pick {}, place {} >\".format(pos_cn[self.pick_pos_code], pos_cn[self.place_pos_code])\n",
    "\n",
    "    def get_time(self):\n",
    "        time = (\n",
    "            self.cmds[0].get_motion_time(ROBOT_STATUS['linear']) \n",
    "            + self.cmds[1].get_motion_time() +\n",
    "            + self.cmds[2].get_motion_time(self.pick_pos_code)\n",
    "            + self.cmds[3].get_motion_time()\n",
    "        )\n",
    "        return time\n",
    "\n",
    "class PickNShake():\n",
    "    def __init__(self, pick_pos_code, shake_pos_code):\n",
    "        self.pick_pos_code = pos_nc[pick_pos_name]\n",
    "        self.shake_pos_code = pos_nc[shake_pos_code]\n",
    "        self.cmds = [cmd_go[self.pick_pos_code], cmd_pick_up[self.pick_pos_code], cmd_go[self.shake_pos_code], cmd_shake[self.shake_pos_code]]\n",
    "\n",
    "    def __repr__(self):\n",
    "        return \"< pick {}, shake {} >\".format(pos_cn[self.pick_pos_code], pos_cn[self.shake_pos_code])\n",
    "    \n",
    "    def get_time(self):\n",
    "        time = (\n",
    "            self.cmds[0].get_motion_time(ROBOT_STATUS['linear']) \n",
    "            + self.cmds[1].get_motion_time() +\n",
    "            + self.cmds[2].get_motion_time(self.pick_pos_code)\n",
    "            + self.cmds[3].get_motion_time()\n",
    "        )\n",
    "        return time"
   ]
  },
  {
   "cell_type": "code",
   "execution_count": null,
   "metadata": {
    "tags": []
   },
   "outputs": [],
   "source": [
    "print(ROBOT_STATUS)"
   ]
  },
  {
   "cell_type": "code",
   "execution_count": null,
   "metadata": {},
   "outputs": [],
   "source": [
    "BASKET_STATUS['ready'] = 0\n",
    "BASKET_STATUS['ret0'] = 1\n",
    "BASKET_STATUS['w0'] = 1"
   ]
  },
  {
   "cell_type": "code",
   "execution_count": 1,
   "metadata": {
    "tags": []
   },
   "outputs": [
    {
     "ename": "NameError",
     "evalue": "name 'BASKET_STATUS' is not defined",
     "output_type": "error",
     "traceback": [
      "\u001b[1;31m---------------------------------------------------------------------------\u001b[0m",
      "\u001b[1;31mNameError\u001b[0m                                 Traceback (most recent call last)",
      "\u001b[1;32mC:\\Users\\NEUROM~1\\AppData\\Local\\Temp/ipykernel_17540/2552050547.py\u001b[0m in \u001b[0;36m<module>\u001b[1;34m\u001b[0m\n\u001b[0;32m     67\u001b[0m     \u001b[1;32mreturn\u001b[0m \u001b[1;32mNone\u001b[0m\u001b[1;33m\u001b[0m\u001b[1;33m\u001b[0m\u001b[0m\n\u001b[0;32m     68\u001b[0m \u001b[1;33m\u001b[0m\u001b[0m\n\u001b[1;32m---> 69\u001b[1;33m \u001b[0mprint\u001b[0m\u001b[1;33m(\u001b[0m\u001b[0mnext_work\u001b[0m\u001b[1;33m(\u001b[0m\u001b[0mtodo\u001b[0m\u001b[1;33m(\u001b[0m\u001b[1;33m)\u001b[0m\u001b[1;33m)\u001b[0m\u001b[1;33m)\u001b[0m\u001b[1;33m\u001b[0m\u001b[1;33m\u001b[0m\u001b[0m\n\u001b[0m",
      "\u001b[1;32mC:\\Users\\NEUROM~1\\AppData\\Local\\Temp/ipykernel_17540/2552050547.py\u001b[0m in \u001b[0;36mtodo\u001b[1;34m()\u001b[0m\n\u001b[0;32m      8\u001b[0m     \u001b[1;31m# 0 순위 작업\u001b[0m\u001b[1;33m\u001b[0m\u001b[1;33m\u001b[0m\u001b[0m\n\u001b[0;32m      9\u001b[0m     \u001b[1;32mfor\u001b[0m \u001b[0mi\u001b[0m \u001b[1;32min\u001b[0m \u001b[0mrange\u001b[0m\u001b[1;33m(\u001b[0m\u001b[1;36m6\u001b[0m\u001b[1;33m)\u001b[0m\u001b[1;33m:\u001b[0m\u001b[1;33m\u001b[0m\u001b[1;33m\u001b[0m\u001b[0m\n\u001b[1;32m---> 10\u001b[1;33m         \u001b[1;32mif\u001b[0m \u001b[1;33m(\u001b[0m\u001b[0mBASKET_STATUS\u001b[0m\u001b[1;33m[\u001b[0m\u001b[1;34m'f{}'\u001b[0m\u001b[1;33m.\u001b[0m\u001b[0mformat\u001b[0m\u001b[1;33m(\u001b[0m\u001b[0mi\u001b[0m\u001b[1;33m)\u001b[0m\u001b[1;33m]\u001b[0m \u001b[1;33m>\u001b[0m \u001b[1;36m20\u001b[0m\u001b[1;33m)\u001b[0m\u001b[1;33m:\u001b[0m\u001b[1;33m\u001b[0m\u001b[1;33m\u001b[0m\u001b[0m\n\u001b[0m\u001b[0;32m     11\u001b[0m             \u001b[1;32mif\u001b[0m \u001b[1;33m(\u001b[0m\u001b[0mBASKET_STATUS\u001b[0m\u001b[1;33m[\u001b[0m\u001b[1;34m'fin'\u001b[0m\u001b[1;33m]\u001b[0m \u001b[1;33m==\u001b[0m \u001b[0mbasket_nc\u001b[0m\u001b[1;33m[\u001b[0m\u001b[1;34m'없음'\u001b[0m\u001b[1;33m]\u001b[0m\u001b[1;33m)\u001b[0m\u001b[1;33m:\u001b[0m\u001b[1;33m\u001b[0m\u001b[1;33m\u001b[0m\u001b[0m\n\u001b[0;32m     12\u001b[0m                 \u001b[0mtodo\u001b[0m\u001b[1;33m[\u001b[0m\u001b[1;36m0\u001b[0m\u001b[1;33m]\u001b[0m\u001b[1;33m.\u001b[0m\u001b[0mappend\u001b[0m\u001b[1;33m(\u001b[0m\u001b[0mPickNPlace\u001b[0m\u001b[1;33m(\u001b[0m\u001b[1;34m'f{}'\u001b[0m\u001b[1;33m.\u001b[0m\u001b[0mformat\u001b[0m\u001b[1;33m(\u001b[0m\u001b[0mi\u001b[0m\u001b[1;33m)\u001b[0m\u001b[1;33m,\u001b[0m \u001b[1;34m'fin'\u001b[0m\u001b[1;33m)\u001b[0m\u001b[1;33m)\u001b[0m\u001b[1;33m\u001b[0m\u001b[1;33m\u001b[0m\u001b[0m\n",
      "\u001b[1;31mNameError\u001b[0m: name 'BASKET_STATUS' is not defined"
     ]
    }
   ],
   "source": [
    "def todo():\n",
    "    todo = {}\n",
    "    todo[0] = []\n",
    "    todo[1] = []\n",
    "    todo[2] = []\n",
    "    todo[3] = []\n",
    "\n",
    "    # 0 순위 작업\n",
    "    for i in range(6):\n",
    "        if (BASKET_STATUS['f{}'.format(i)] > 20):\n",
    "            if (BASKET_STATUS['fin'] == basket_nc['없음']):\n",
    "                todo[0].append(PickNPlace('f{}'.format(i), 'fin'))\n",
    "            else:\n",
    "                todo[0].append(PickNPlace('f{}'.format(i), 'w{}'.format(i)))\n",
    "\n",
    "    # 1 순위 작업\n",
    "    for i in range(6):\n",
    "        if (10 < BASKET_STATUS['ready'] < 20) and BASKET_STATUS['w{}'.format(i)] == basket_nc['없음'] and BASKET_STATUS['f{}'.format(i)] == basket_nc['없음']:\n",
    "            todo[1].append(PickNPlace('ready', 'w{}'.format(i)))\n",
    "            # todo.append(PickNShake('ready', 'f{}'.format(i), 2))\n",
    "\n",
    "        if (BASKET_STATUS['w{}'.format(i)] == basket_nc['빈바구니']) and (BASKET_STATUS['ready'] == basket_nc['없음']):\n",
    "            todo[1].append(PickNPlace('w{}'.format(i), 'ready'))\n",
    "\n",
    "    for j in range(3):\n",
    "        if (BASKET_STATUS['ret{}'.format(j)] != basket_nc['없음']) and (BASKET_STATUS['ready'] == basket_nc['없음']):\n",
    "            todo[1].append(PickNPlace('ret{}'.format(j), 'ready'))\n",
    "\n",
    "    # 2 순위 작업\n",
    "    for i in range(6):\n",
    "        if (10 < BASKET_STATUS['w{}'.format(i)] < 20) and (BASKET_STATUS['f{}'.format(i)] == basket_nc['없음']):\n",
    "            todo[2].append(PickNShake('w{}'.format(i), 'f{}'.format(i)))\n",
    "\n",
    "        if (BASKET_STATUS['w{}'.format(i)] > 20) and (BASKET_STATUS['fin'] == basket_nc['없음']):\n",
    "            todo[2].append(PickNPlace('w{}'.format(i), 'fin'))\n",
    "\n",
    "        for j in range(3):\n",
    "            if BASKET_STATUS['ret{}'.format(j)] != basket_nc['없음'] and BASKET_STATUS['w{}'.format(i)] == basket_nc['없음'] and BASKET_STATUS['f{}'.format(i)] == basket_nc['없음']:\n",
    "                todo[2].append(PickNPlace('ret{}'.format(j), 'w{}'.format(i)))\n",
    "\n",
    "    return todo\n",
    "\n",
    "def next_work(todo):\n",
    "\n",
    "    if todo[0]:\n",
    "        hurryup = min(FRYING_TIME, key=FRYING_TIME.get)\n",
    "        for w in todo[0]:\n",
    "            if w.pick_pos_code == pos_nc[hurryup]:\n",
    "                return w\n",
    "\n",
    "    left_time = min(FRYING_TIME.values())\n",
    "    if todo[1]:\n",
    "        work = min(a[1], key=lambda t:t.get_time())\n",
    "        if left_time - work.get_time() < -30:\n",
    "            pass\n",
    "        else:\n",
    "            return work\n",
    "\n",
    "    if todo[2]:\n",
    "        work = min(a[2], key=lambda t:t.get_time())\n",
    "        if left_time - work.get_time() < -30:\n",
    "            pass\n",
    "        else:\n",
    "            return work\n",
    "            \n",
    "\n",
    "    return None\n",
    "\n",
    "print(next_work(todo()))"
   ]
  },
  {
   "cell_type": "code",
   "execution_count": 13,
   "metadata": {},
   "outputs": [],
   "source": [
    "a = 'shaking_08'"
   ]
  },
  {
   "cell_type": "code",
   "execution_count": 14,
   "metadata": {},
   "outputs": [
    {
     "name": "stdout",
     "output_type": "stream",
     "text": [
      "08\n",
      "yes\n"
     ]
    }
   ],
   "source": [
    "print(int(a[-2:]))\n",
    "if int(a[-2:]) == 8:\n",
    "    print('yes')\n",
    "else:\n",
    "    print('no')\n"
   ]
  },
  {
   "cell_type": "code",
   "execution_count": null,
   "metadata": {},
   "outputs": [],
   "source": []
  }
 ],
 "metadata": {
  "interpreter": {
   "hash": "13eb0af71620a846e484681143862ad0a4deab6cadfc353264e5c14897c11035"
  },
  "kernelspec": {
   "display_name": "Python 3.8.3 64-bit ('anaconda3': conda)",
   "language": "python",
   "name": "python3"
  },
  "language_info": {
   "codemirror_mode": {
    "name": "ipython",
    "version": 3
   },
   "file_extension": ".py",
   "mimetype": "text/x-python",
   "name": "python",
   "nbconvert_exporter": "python",
   "pygments_lexer": "ipython3",
   "version": "3.9.9"
  },
  "orig_nbformat": 2
 },
 "nbformat": 4,
 "nbformat_minor": 2
}
