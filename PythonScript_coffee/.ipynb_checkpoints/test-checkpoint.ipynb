{
 "cells": [
  {
   "cell_type": "code",
   "execution_count": 5,
   "metadata": {},
   "outputs": [],
   "source": [
    "import serial\n",
    "from serial.tools import list_ports"
   ]
  },
  {
   "cell_type": "code",
   "execution_count": 7,
   "metadata": {},
   "outputs": [
    {
     "name": "stdout",
     "output_type": "stream",
     "text": [
      "/dev/ttyS5 - ttyS5\n",
      "/dev/ttyS4 - ttyS4\n",
      "/dev/ttyS3 - ttyS3\n",
      "/dev/ttyS0 - ttyS0\n",
      "/dev/ttyUSB2 - USB-Serial Controller D\n",
      "/dev/ttyUSB0 - USB-Serial Controller D\n",
      "/dev/ttyUSB1 - USB-Serial Controller D\n",
      "/dev/ttyACM0 - NLS IOTC PRDsUSBVCP\n"
     ]
    }
   ],
   "source": [
    "for p in list_ports.comports():\n",
    "    print(p, p.)"
   ]
  }
 ],
 "metadata": {
  "interpreter": {
   "hash": "df0893f56f349688326838aaeea0de204df53a132722cbd565e54b24a8fec5f6"
  },
  "kernelspec": {
   "display_name": "Python 3",
   "language": "python",
   "name": "python3"
  },
  "language_info": {
   "codemirror_mode": {
    "name": "ipython",
    "version": 3
   },
   "file_extension": ".py",
   "mimetype": "text/x-python",
   "name": "python",
   "nbconvert_exporter": "python",
   "pygments_lexer": "ipython3",
   "version": "3.7.3"
  }
 },
 "nbformat": 4,
 "nbformat_minor": 2
}
